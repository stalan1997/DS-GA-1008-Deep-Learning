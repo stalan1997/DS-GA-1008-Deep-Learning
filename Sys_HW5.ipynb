{
  "nbformat": 4,
  "nbformat_minor": 0,
  "metadata": {
    "colab": {
      "name": "Sys_HW5.ipynb",
      "provenance": [],
      "collapsed_sections": [],
      "toc_visible": true,
      "authorship_tag": "ABX9TyNKAGB6Wnnsr0dr+t9Opay/",
      "include_colab_link": true
    },
    "kernelspec": {
      "display_name": "Python 3",
      "name": "python3"
    }
  },
  "cells": [
    {
      "cell_type": "markdown",
      "metadata": {
        "id": "view-in-github",
        "colab_type": "text"
      },
      "source": [
        "<a href=\"https://colab.research.google.com/github/stalan1997/DS-GA-1008-Deep-Learning/blob/main/Sys_HW5.ipynb\" target=\"_parent\"><img src=\"https://colab.research.google.com/assets/colab-badge.svg\" alt=\"Open In Colab\"/></a>"
      ]
    },
    {
      "cell_type": "code",
      "metadata": {
        "id": "Ms_d3CNzG8Ax"
      },
      "source": [
        "import numpy as np\n",
        "import matplotlib.pyplot as plt\n",
        "\n",
        "import matplotlib"
      ],
      "execution_count": 1,
      "outputs": []
    },
    {
      "cell_type": "markdown",
      "metadata": {
        "id": "TED72n_XJODf"
      },
      "source": [
        "# Problem 1"
      ]
    },
    {
      "cell_type": "code",
      "metadata": {
        "id": "nENtG8-tIUWU"
      },
      "source": [
        "def f1(x):\n",
        "  x1, x2 = x\n",
        "  output = np.exp(x1+3*x2-0.1) + np.exp(x1-3*x2-0.1) + np.exp(-x1-0.1)\n",
        "  return output"
      ],
      "execution_count": null,
      "outputs": []
    },
    {
      "cell_type": "markdown",
      "metadata": {
        "id": "vVjkK091JRVt"
      },
      "source": [
        ""
      ]
    },
    {
      "cell_type": "code",
      "metadata": {
        "id": "DvDo2z64JnzT"
      },
      "source": [
        "def f1_grad(x):\n",
        "  x1, x2 = x\n",
        "  x1_g = np.exp(x1+3*x2-0.1) + np.exp(x1-3*x2-0.1) - np.exp(-x1-0.1)\n",
        "  x2_g = 3* np.exp(x1+3*x2-0.1) -3*np.exp(x1-3*x2-0.1) \n",
        "  return x1_g, x2_g"
      ],
      "execution_count": null,
      "outputs": []
    },
    {
      "cell_type": "code",
      "metadata": {
        "id": "32sPYNTfLh-a"
      },
      "source": [
        "def backlinesearch1(x,dir,alpha,beta):\n",
        "  t = 1 #stepsize\n",
        "  f_current = f1(x)\n",
        "  temp = x\n",
        "  x = x + t * dir\n",
        "  f_new = f1(x)\n",
        "  f_grad = f1_grad(temp)\n",
        "  while f_new > f_current + t*alpha*np.matmul(f_grad, dir):\n",
        "    t = t * beta\n",
        "    x = temp + t * dir\n",
        "    f_new = f1(x)\n",
        "\n",
        "\n",
        "  return t, x #stepsize, final x"
      ],
      "execution_count": null,
      "outputs": []
    },
    {
      "cell_type": "code",
      "metadata": {
        "id": "2AmWxdYwQFbm"
      },
      "source": [
        "num = 0\n",
        "x = np.random.rand(2) #initial point\n",
        "dir = np.array([-0.5,-1.5]) #chosen direction\n",
        "alpha = 0.1\n",
        "beta = 0.7\n",
        "eps = 1e-6\n",
        "\n",
        "g_norm = np.linalg.norm(f1_grad(x))\n",
        "grad_x = -1*np.array(f1_grad(x))\n",
        "x1_seq, x2_seq = [], []"
      ],
      "execution_count": null,
      "outputs": []
    },
    {
      "cell_type": "code",
      "metadata": {
        "colab": {
          "base_uri": "https://localhost:8080/"
        },
        "id": "ImhLaAE5OP86",
        "outputId": "163b3526-a5c5-419d-c271-963b9154332f"
      },
      "source": [
        "while g_norm > eps:\n",
        "    \n",
        "    # Iteration\n",
        "    num += 1\n",
        "    print('Iteration number: ', num)\n",
        "    print('Norm of gradient: ', g_norm)\n",
        "    \n",
        "    \n",
        "    # BT Line search and update\n",
        "    t, x = backlinesearch1(x, grad_x, alpha, beta)\n",
        "    \n",
        "    \n",
        "    # Calculate direction and norm (stopping condition)\n",
        "    g_norm = np.linalg.norm(f1_grad(x))\n",
        "    grad_x = -1*np.array(f1_grad(x))\n",
        "    # For next iteration\n",
        "    x1_seq.append(x[0])\n",
        "    x2_seq.append(x[1])\n"
      ],
      "execution_count": null,
      "outputs": [
        {
          "output_type": "stream",
          "text": [
            "Iteration number:  1\n",
            "Norm of gradient:  78.01659671883566\n",
            "Iteration number:  2\n",
            "Norm of gradient:  11.31331153455999\n",
            "Iteration number:  3\n",
            "Norm of gradient:  6.004761862938918\n",
            "Iteration number:  4\n",
            "Norm of gradient:  3.5392966093101106\n",
            "Iteration number:  5\n",
            "Norm of gradient:  1.2431921024173016\n",
            "Iteration number:  6\n",
            "Norm of gradient:  0.9451733332174048\n",
            "Iteration number:  7\n",
            "Norm of gradient:  0.7689288572181211\n",
            "Iteration number:  8\n",
            "Norm of gradient:  0.24633281727514744\n",
            "Iteration number:  9\n",
            "Norm of gradient:  0.20385726815425634\n",
            "Iteration number:  10\n",
            "Norm of gradient:  0.1786041131589248\n",
            "Iteration number:  11\n",
            "Norm of gradient:  0.06437895862024182\n",
            "Iteration number:  12\n",
            "Norm of gradient:  0.056373163590345346\n",
            "Iteration number:  13\n",
            "Norm of gradient:  0.02152769687007383\n",
            "Iteration number:  14\n",
            "Norm of gradient:  0.018555140683799518\n",
            "Iteration number:  15\n",
            "Norm of gradient:  0.016755490049982443\n",
            "Iteration number:  16\n",
            "Norm of gradient:  0.006252325653516731\n",
            "Iteration number:  17\n",
            "Norm of gradient:  0.005581043074628766\n",
            "Iteration number:  18\n",
            "Norm of gradient:  0.002133213145037889\n",
            "Iteration number:  19\n",
            "Norm of gradient:  0.001872161240339544\n",
            "Iteration number:  20\n",
            "Norm of gradient:  0.0007365601537070482\n",
            "Iteration number:  21\n",
            "Norm of gradient:  0.0006319736495834486\n",
            "Iteration number:  22\n",
            "Norm of gradient:  0.0005701416695750991\n",
            "Iteration number:  23\n",
            "Norm of gradient:  0.00021487178271076024\n",
            "Iteration number:  24\n",
            "Norm of gradient:  0.00019112638827088258\n",
            "Iteration number:  25\n",
            "Norm of gradient:  7.369778810506813e-05\n",
            "Iteration number:  26\n",
            "Norm of gradient:  6.43298176008961e-05\n",
            "Iteration number:  27\n",
            "Norm of gradient:  2.5553628122688032e-05\n",
            "Iteration number:  28\n",
            "Norm of gradient:  2.176895579632036e-05\n",
            "Iteration number:  29\n",
            "Norm of gradient:  1.9572731464019514e-05\n",
            "Iteration number:  30\n",
            "Norm of gradient:  7.419097313340173e-06\n",
            "Iteration number:  31\n",
            "Norm of gradient:  6.568813440948757e-06\n",
            "Iteration number:  32\n",
            "Norm of gradient:  2.551820270352048e-06\n",
            "Iteration number:  33\n",
            "Norm of gradient:  2.213991500244572e-06\n",
            "Iteration number:  34\n",
            "Norm of gradient:  2.007872525924127e-06\n"
          ],
          "name": "stdout"
        }
      ]
    },
    {
      "cell_type": "code",
      "metadata": {
        "colab": {
          "base_uri": "https://localhost:8080/",
          "height": 387
        },
        "id": "qOBqW0w5d83q",
        "outputId": "6d6cc615-d84d-468a-98a2-1be23cf891a3"
      },
      "source": [
        "# Visualize convergence of Problem 1\n",
        "x = np.linspace(-1, 1, 100)\n",
        "y = np.linspace(-1, 1, 100)\n",
        "X, Y = np.meshgrid(x, y)\n",
        "Z = f1([X, Y])\n",
        "\n",
        "fig = plt.figure(figsize=(6,5))\n",
        "ax = plt.axes()\n",
        "ax1 = ax.contour(X, Y, Z, 100, cmap='jet_r')\n",
        "ax.plot(x1_seq, x2_seq, color='k', \n",
        "        marker='o', markersize=5, fillstyle='none',\n",
        "        linestyle='dashed', linewidth=1)\n",
        "plt.title(r'Result for problem 1 $x_1^*$={0}, $x_2^*$={1}, No. of iterations: {2}'.format(np.round(x1_seq[-1],3),np.round(x2_seq[-1],8),num), fontsize=16)\n",
        "plt.xlabel(r'$x_1$', fontsize=16); plt.xticks(fontsize=13)\n",
        "plt.ylabel(r'$x_2$', fontsize=16); plt.yticks(fontsize=13)\n",
        "plt.xlim([-1,1]); plt.ylim([-1,1])\n",
        "plt.colorbar(ax1)\n",
        "plt.tight_layout()\n",
        "\n",
        "\n",
        "print('Objective Value is :',f1([x1_seq[-1],x2_seq[-1]]))\n"
      ],
      "execution_count": null,
      "outputs": [
        {
          "output_type": "stream",
          "text": [
            "Objective Value is : 2.559266696658251\n"
          ],
          "name": "stdout"
        },
        {
          "output_type": "display_data",
          "data": {
            "image/png": "[encoded data removed]",
            "text/plain": [
              "<Figure size 432x360 with 2 Axes>"
            ]
          },
          "metadata": {
            "tags": []
          }
        }
      ]
    },
    {
      "cell_type": "markdown",
      "metadata": {
        "id": "Iioc7ZFaJE5N"
      },
      "source": [
        "# Problem 2\n"
      ]
    },
    {
      "cell_type": "code",
      "metadata": {
        "id": "1KbIs6CKmOEc"
      },
      "source": [
        "def f2(x, w):\n",
        "  w1, w2, w3 = w\n",
        "  x1, x2, x3 = x\n",
        "  output = w1*np.log(x1)+w2*np.log(x2)+w3*np.log(x3)-np.power((1-x1-x2-x3),-2)\n",
        "  return output"
      ],
      "execution_count": null,
      "outputs": []
    },
    {
      "cell_type": "code",
      "metadata": {
        "id": "i2L4PrHBoo7S"
      },
      "source": [
        "def f2_grad(x, w):\n",
        "  w1, w2, w3 = w\n",
        "  x1, x2, x3 = x\n",
        "  x1_g = w1/x1 - 2*(1-x1-x2-x3)\n",
        "  x2_g = w2/x2 - 2*(1-x1-x2-x3)\n",
        "  x3_g = w3/x3 - 2*(1-x1-x2-x3)\n",
        "  return x1_g, x2_g, x3_g\n",
        "\n",
        "  "
      ],
      "execution_count": null,
      "outputs": []
    },
    {
      "cell_type": "code",
      "metadata": {
        "id": "dOaB7jqepUWJ"
      },
      "source": [
        "def backlinesearch2(x,w,dir,alpha,beta):\n",
        "  t = 0.1 #stepsize\n",
        "  f_current = -1*f2(x,w)\n",
        "  temp = x\n",
        "  x = x + t * dir\n",
        "  f_new = -1*f2(x,w)\n",
        "  f_grad = -1*np.array(f2_grad(temp,w))\n",
        "\n",
        "  while f_new > f_current + t*alpha*np.matmul(f_grad, dir):\n",
        "    if x.sum()>1 or x.any()<0:\n",
        "      break\n",
        "    t = t * beta\n",
        "    x = temp + t * dir\n",
        "    f_new = -1*f2(x,w)\n",
        "\n",
        "  return t, x #stepsize, final x"
      ],
      "execution_count": null,
      "outputs": []
    },
    {
      "cell_type": "code",
      "metadata": {
        "id": "58_tZ0kApnCb"
      },
      "source": [
        "#initial condition\n",
        "num1 = 0\n",
        "num2 = 0\n",
        "x = np.array([0.1,0.1,0.1]) #initial point\n",
        "alpha = 0.1\n",
        "beta = 0.5\n",
        "eps = 1e-6\n",
        "\n"
      ],
      "execution_count": null,
      "outputs": []
    },
    {
      "cell_type": "code",
      "metadata": {
        "id": "4XPHRqKurjEF"
      },
      "source": [
        "#Problem 2, subproblem 1\n",
        "#w1 = 1, w2 = 1, w3 = 1\n",
        "w1 = np.array([1,1,1])\n",
        "dir = np.array([1,1,1])\n",
        "temp = x\n",
        "t_final_1, x_final_1 = backlinesearch2(x,w1,dir,alpha,beta)"
      ],
      "execution_count": null,
      "outputs": []
    },
    {
      "cell_type": "code",
      "metadata": {
        "colab": {
          "base_uri": "https://localhost:8080/"
        },
        "id": "dYMpgOa0eVGs",
        "outputId": "b1b01d8e-90cf-410f-efbe-6097d2e22531"
      },
      "source": [
        "print('The final solution of x is:', x_final_1)\n",
        "print('The optimum maximum value is:', f2(x_final_1,w1))"
      ],
      "execution_count": null,
      "outputs": [
        {
          "output_type": "stream",
          "text": [
            "The final solution of x is: [0.125 0.125 0.125]\n",
            "The optimum maximum value is: -8.798324625039507\n"
          ],
          "name": "stdout"
        }
      ]
    },
    {
      "cell_type": "code",
      "metadata": {
        "id": "EFE6xgOEe9Cj"
      },
      "source": [
        "#Problem 2, subproblem 2\n",
        "#w1 = 1, w2 = 2, w3 = 3\n",
        "w2 = np.array([1,2,3])\n",
        "x2 = np.array([0.1,0.1,0.1])\n",
        "gnorm_2 = np.linalg.norm(np.array(f2_grad(x2,w2)))\n",
        "grad_2 = np.array(f2_grad(x2,w2))/gnorm_2\n",
        "eps = 1e-5\n",
        "t2 = 1"
      ],
      "execution_count": null,
      "outputs": []
    },
    {
      "cell_type": "code",
      "metadata": {
        "colab": {
          "base_uri": "https://localhost:8080/"
        },
        "id": "SAwmq8PSg8AX",
        "outputId": "02b13765-6f0f-470b-e2e5-67440e229866"
      },
      "source": [
        "while t2 > eps:\n",
        "    \n",
        "    # Iteration\n",
        "    num2 += 1\n",
        "    print('Iteration number: ', num2)\n",
        "    print('Norm of gradient: ', gnorm_2)\n",
        "    \n",
        "    # BT Line search\n",
        "    t2, x2 = backlinesearch2(x2, w2, grad_2, alpha, beta)\n",
        "    \n",
        "    \n",
        "    # Calculate direction and norm (stopping condition)\n",
        "    gnorm_2 = np.linalg.norm(np.array(f2_grad(x2,w2)))\n",
        "    grad_2 = np.array(f2_grad(x2,w2))/gnorm_2\n"
      ],
      "execution_count": null,
      "outputs": [
        {
          "output_type": "stream",
          "text": [
            "Iteration number:  1\n",
            "Norm of gradient:  35.18351886892498\n",
            "Iteration number:  2\n",
            "Norm of gradient:  20.773487312056496\n"
          ],
          "name": "stdout"
        }
      ]
    },
    {
      "cell_type": "code",
      "metadata": {
        "colab": {
          "base_uri": "https://localhost:8080/"
        },
        "id": "hB02tCkGiPD-",
        "outputId": "5c62c014-f99c-4623-c8f5-2a7c79f8485f"
      },
      "source": [
        "print('The approximate solution of x is:', x2)\n",
        "print('The resulted optimal value is,',f2(x2, w2))"
      ],
      "execution_count": null,
      "outputs": [
        {
          "output_type": "stream",
          "text": [
            "The approximate solution of x is: [0.12444326 0.15286566 0.18128806]\n",
            "The resulted optimal value is, -14.374905341205707\n"
          ],
          "name": "stdout"
        }
      ]
    },
    {
      "cell_type": "markdown",
      "metadata": {
        "id": "SdfjRxRAjDCv"
      },
      "source": [
        "# Problem 6"
      ]
    },
    {
      "cell_type": "code",
      "metadata": {
        "id": "O7ePtbFxjGZ8"
      },
      "source": [
        "#initialization\n",
        "alpha = 0.01\n",
        "beta = 0.5\n",
        "iter = 200\n",
        "grad_bound = 1e-3\n",
        "A = np.random.randn(200,100)"
      ],
      "execution_count": null,
      "outputs": []
    },
    {
      "cell_type": "code",
      "metadata": {
        "id": "vvSSIBMzmA_F"
      },
      "source": [
        "x = np.zeros(100)"
      ],
      "execution_count": null,
      "outputs": []
    },
    {
      "cell_type": "code",
      "metadata": {
        "id": "8lRMWJmWlw4t"
      },
      "source": [
        "def f6(x, A):\n",
        "  output = -np.log(1-A@x).sum()- np.log(1+x).sum()- np.log(1-x).sum()\n",
        "  return output"
      ],
      "execution_count": null,
      "outputs": []
    },
    {
      "cell_type": "code",
      "metadata": {
        "id": "CRn0fBi2oLOF"
      },
      "source": [
        "def f6_grad(x, A):\n",
        "  output = np.transpose(A)@(1/(1-A@x)) -1/(1+x)-1/(1-x)\n",
        "  return output"
      ],
      "execution_count": null,
      "outputs": []
    },
    {
      "cell_type": "code",
      "metadata": {
        "colab": {
          "base_uri": "https://localhost:8080/"
        },
        "id": "Bl_G60HvmwUl",
        "outputId": "b672ab84-e364-45b5-9214-b2f18596bf30"
      },
      "source": [
        "t_record = []\n",
        "obj_record = []\n",
        "\n",
        "for i in range(iter):\n",
        "  val = f6(x,A)\n",
        "  grad = f6_grad(x,A)\n",
        "  if np.linalg.norm(grad) < grad_bound:\n",
        "    break\n",
        "  fprime = -1*np.transpose(grad)@grad\n",
        "  t = 1\n",
        "  \n",
        "  \n",
        "  while np.max(A@(x-t*grad)) >= 1 or np.max(abs(x-t*grad)) >= 1:\n",
        "    t = beta*t\n",
        "  while f6(x-t*grad, A) > val + alpha*t*fprime:\n",
        "    t = beta*t\n",
        "  x = x - t*grad\n",
        "  print(t)\n",
        "  t_record.append(t)\n",
        "  obj_record.append(val)"
      ],
      "execution_count": null,
      "outputs": [
        {
          "output_type": "stream",
          "text": [
            "0.001953125\n",
            "0.00390625\n",
            "0.0078125\n",
            "0.001953125\n",
            "0.001953125\n",
            "0.00048828125\n",
            "0.00390625\n",
            "6.103515625e-05\n",
            "0.0009765625\n",
            "0.00390625\n",
            "0.00048828125\n",
            "0.00390625\n",
            "0.0009765625\n",
            "0.001953125\n",
            "0.001953125\n",
            "0.001953125\n",
            "0.001953125\n",
            "0.001953125\n",
            "0.001953125\n",
            "0.001953125\n",
            "0.001953125\n",
            "0.001953125\n",
            "0.001953125\n",
            "0.001953125\n",
            "0.001953125\n",
            "0.001953125\n",
            "0.001953125\n",
            "0.001953125\n",
            "0.001953125\n",
            "0.001953125\n",
            "0.001953125\n",
            "0.0009765625\n",
            "0.001953125\n",
            "0.00390625\n",
            "0.001953125\n",
            "0.0009765625\n",
            "0.001953125\n",
            "0.001953125\n",
            "0.001953125\n",
            "0.0009765625\n",
            "0.001953125\n",
            "0.001953125\n",
            "0.0009765625\n",
            "0.001953125\n",
            "0.00390625\n",
            "0.001953125\n",
            "0.0009765625\n",
            "0.001953125\n",
            "0.001953125\n",
            "0.001953125\n",
            "0.0009765625\n",
            "0.001953125\n",
            "0.0009765625\n",
            "0.001953125\n",
            "0.0009765625\n",
            "0.001953125\n",
            "0.0009765625\n",
            "0.0009765625\n",
            "0.000244140625\n",
            "9.5367431640625e-07\n",
            "1.8189894035458565e-12\n",
            "2.842170943040401e-14\n",
            "8.881784197001252e-16\n",
            "2.842170943040401e-14\n",
            "1.1368683772161603e-13\n",
            "1.1368683772161603e-13\n",
            "2.2737367544323206e-13\n",
            "2.842170943040401e-14\n",
            "1.1368683772161603e-13\n",
            "4.547473508864641e-13\n",
            "4.547473508864641e-13\n",
            "6.938893903907228e-18\n",
            "6.938893903907228e-18\n",
            "1.4210854715202004e-14\n",
            "8.881784197001252e-16\n",
            "1.1368683772161603e-13\n",
            "1.7763568394002505e-15\n",
            "2.2737367544323206e-13\n",
            "4.547473508864641e-13\n",
            "4.440892098500626e-16\n",
            "2.842170943040401e-14\n",
            "2.2737367544323206e-13\n",
            "1.1368683772161603e-13\n",
            "4.547473508864641e-13\n",
            "1.4210854715202004e-14\n",
            "2.2737367544323206e-13\n",
            "1.8189894035458565e-12\n",
            "2.842170943040401e-14\n",
            "6.938893903907228e-18\n",
            "3.469446951953614e-18\n",
            "3.469446951953614e-18\n",
            "3.469446951953614e-18\n",
            "3.469446951953614e-18\n",
            "6.938893903907228e-18\n",
            "1.734723475976807e-18\n",
            "1.734723475976807e-18\n",
            "1.734723475976807e-18\n",
            "1.734723475976807e-18\n",
            "1.734723475976807e-18\n",
            "1.734723475976807e-18\n",
            "1.734723475976807e-18\n",
            "1.734723475976807e-18\n",
            "1.734723475976807e-18\n",
            "1.734723475976807e-18\n",
            "1.734723475976807e-18\n",
            "1.734723475976807e-18\n",
            "1.734723475976807e-18\n",
            "1.734723475976807e-18\n",
            "1.734723475976807e-18\n",
            "1.734723475976807e-18\n",
            "1.734723475976807e-18\n",
            "1.734723475976807e-18\n",
            "1.734723475976807e-18\n",
            "1.734723475976807e-18\n",
            "1.734723475976807e-18\n",
            "1.734723475976807e-18\n",
            "1.734723475976807e-18\n",
            "1.734723475976807e-18\n",
            "1.734723475976807e-18\n",
            "8.673617379884035e-19\n",
            "8.673617379884035e-19\n",
            "8.673617379884035e-19\n",
            "8.673617379884035e-19\n",
            "8.673617379884035e-19\n",
            "8.673617379884035e-19\n",
            "8.673617379884035e-19\n",
            "8.673617379884035e-19\n",
            "8.673617379884035e-19\n",
            "8.673617379884035e-19\n",
            "8.673617379884035e-19\n",
            "8.673617379884035e-19\n",
            "8.673617379884035e-19\n",
            "8.673617379884035e-19\n",
            "8.673617379884035e-19\n",
            "8.673617379884035e-19\n",
            "8.673617379884035e-19\n",
            "8.673617379884035e-19\n",
            "8.673617379884035e-19\n",
            "8.673617379884035e-19\n",
            "8.673617379884035e-19\n",
            "8.673617379884035e-19\n",
            "8.673617379884035e-19\n",
            "8.673617379884035e-19\n",
            "8.673617379884035e-19\n",
            "8.673617379884035e-19\n",
            "8.673617379884035e-19\n",
            "8.673617379884035e-19\n",
            "8.673617379884035e-19\n",
            "8.673617379884035e-19\n",
            "8.673617379884035e-19\n",
            "8.673617379884035e-19\n",
            "8.673617379884035e-19\n",
            "8.673617379884035e-19\n",
            "8.673617379884035e-19\n",
            "8.673617379884035e-19\n",
            "8.673617379884035e-19\n",
            "8.673617379884035e-19\n",
            "8.673617379884035e-19\n",
            "8.673617379884035e-19\n",
            "8.673617379884035e-19\n",
            "8.673617379884035e-19\n",
            "8.673617379884035e-19\n",
            "8.673617379884035e-19\n",
            "8.673617379884035e-19\n",
            "8.673617379884035e-19\n",
            "8.673617379884035e-19\n",
            "8.673617379884035e-19\n",
            "8.673617379884035e-19\n",
            "8.673617379884035e-19\n",
            "8.673617379884035e-19\n",
            "8.673617379884035e-19\n",
            "8.673617379884035e-19\n",
            "8.673617379884035e-19\n",
            "8.673617379884035e-19\n",
            "8.673617379884035e-19\n",
            "8.673617379884035e-19\n",
            "8.673617379884035e-19\n",
            "8.673617379884035e-19\n",
            "8.673617379884035e-19\n",
            "8.673617379884035e-19\n",
            "8.673617379884035e-19\n",
            "8.673617379884035e-19\n",
            "8.673617379884035e-19\n",
            "8.673617379884035e-19\n",
            "8.673617379884035e-19\n",
            "8.673617379884035e-19\n",
            "8.673617379884035e-19\n",
            "8.673617379884035e-19\n",
            "8.673617379884035e-19\n",
            "8.673617379884035e-19\n",
            "8.673617379884035e-19\n",
            "8.673617379884035e-19\n",
            "8.673617379884035e-19\n",
            "8.673617379884035e-19\n",
            "8.673617379884035e-19\n",
            "8.673617379884035e-19\n",
            "8.673617379884035e-19\n",
            "8.673617379884035e-19\n",
            "8.673617379884035e-19\n",
            "8.673617379884035e-19\n"
          ],
          "name": "stdout"
        }
      ]
    },
    {
      "cell_type": "code",
      "metadata": {
        "colab": {
          "base_uri": "https://localhost:8080/",
          "height": 541
        },
        "id": "oSYbMQwmm3P9",
        "outputId": "36dc6906-e514-4be2-a99b-7e7fabdd8ef0"
      },
      "source": [
        "#Result of (a), gradient method\n",
        "\n",
        "num = np.arange(200)\n",
        "plt.plot(num, t_record,)\n",
        "plt.xlabel('Iter Number')\n",
        "plt.ylabel('t: step size')\n",
        "plt.show()\n",
        "\n",
        "plt.plot(num, obj_record)\n",
        "plt.xlabel('Iter Number')\n",
        "plt.ylabel('Objective value')\n",
        "plt.show()"
      ],
      "execution_count": null,
      "outputs": [
        {
          "output_type": "display_data",
          "data": {
            "image/png": "[encoded data removed]",
            "text/plain": [
              "<Figure size 432x288 with 1 Axes>"
            ]
          },
          "metadata": {
            "tags": [],
            "needs_background": "light"
          }
        },
        {
          "output_type": "display_data",
          "data": {
            "image/png": "[encoded data removed]",
            "text/plain": [
              "<Figure size 432x288 with 1 Axes>"
            ]
          },
          "metadata": {
            "tags": [],
            "needs_background": "light"
          }
        }
      ]
    },
    {
      "cell_type": "code",
      "metadata": {
        "id": "CA4hqf5DjXX_"
      },
      "source": [
        "#Part(b), Newton's method\n",
        "newton_bound = 1e-8\n",
        "x = np.zeros(100)\n"
      ],
      "execution_count": null,
      "outputs": []
    },
    {
      "cell_type": "code",
      "metadata": {
        "colab": {
          "base_uri": "https://localhost:8080/"
        },
        "id": "fIaUfjwwzLl9",
        "outputId": "b285b041-e65c-453c-e2e0-e63cad8764da"
      },
      "source": [
        "t_record_new = []\n",
        "obj_record_new = []\n",
        "\n",
        "for i in range(iter):\n",
        "  val = f6(x,A)\n",
        "  d = 1/(1-A@x)\n",
        "  grad = f6_grad(x,A)\n",
        "  hessian = np.transpose(A)@np.diag(d**2)@A +np.diag(1/(1+x)**2 + 1/(1-x)**2)\n",
        "  v = -np.linalg.inv(hessian)@grad\n",
        "  fprime = np.transpose(grad)@grad\n",
        "  if abs(fprime) < newton_bound:\n",
        "    break\n",
        "  t = 1  \n",
        "  while np.max(A@(x-t*grad)) >= 1 or np.max(abs(x-t*grad)) >= 1:\n",
        "    t = beta*t\n",
        "  while f6(x-t*grad, A) > val + alpha*t*fprime:\n",
        "    t = beta*t\n",
        "  x = x - t*grad\n",
        "  print(t)\n",
        "  t_record_new.append(t)\n",
        "  obj_record_new.append(val)"
      ],
      "execution_count": null,
      "outputs": [
        {
          "output_type": "stream",
          "text": [
            "0.001953125\n",
            "0.00390625\n",
            "0.0078125\n",
            "0.001953125\n",
            "0.001953125\n",
            "0.00048828125\n",
            "0.00390625\n",
            "6.103515625e-05\n",
            "0.0009765625\n",
            "0.00390625\n",
            "0.00048828125\n",
            "0.00390625\n",
            "0.0009765625\n",
            "0.001953125\n",
            "0.001953125\n",
            "0.001953125\n",
            "0.001953125\n",
            "0.001953125\n",
            "0.001953125\n",
            "0.001953125\n",
            "0.001953125\n",
            "0.001953125\n",
            "0.001953125\n",
            "0.001953125\n",
            "0.001953125\n",
            "0.001953125\n",
            "0.001953125\n",
            "0.001953125\n",
            "0.001953125\n",
            "0.001953125\n",
            "0.001953125\n",
            "0.001953125\n",
            "0.0009765625\n",
            "0.001953125\n",
            "0.0078125\n",
            "0.001953125\n",
            "0.0009765625\n",
            "0.001953125\n",
            "0.0009765625\n",
            "0.001953125\n",
            "0.001953125\n",
            "0.001953125\n",
            "0.0009765625\n",
            "0.001953125\n",
            "0.001953125\n",
            "0.0009765625\n",
            "0.001953125\n",
            "0.0009765625\n",
            "0.001953125\n",
            "0.0009765625\n",
            "0.001953125\n",
            "0.0009765625\n",
            "0.0009765625\n",
            "0.001953125\n",
            "0.00390625\n",
            "0.001953125\n",
            "0.0009765625\n",
            "0.0001220703125\n",
            "1.7763568394002505e-15\n",
            "8.881784197001252e-16\n",
            "6.938893903907228e-18\n",
            "1.3877787807814457e-17\n",
            "3.469446951953614e-18\n",
            "3.469446951953614e-18\n",
            "3.469446951953614e-18\n",
            "3.469446951953614e-18\n",
            "3.469446951953614e-18\n",
            "3.469446951953614e-18\n",
            "3.469446951953614e-18\n",
            "3.469446951953614e-18\n",
            "3.469446951953614e-18\n",
            "3.469446951953614e-18\n",
            "3.469446951953614e-18\n",
            "3.469446951953614e-18\n",
            "3.469446951953614e-18\n",
            "3.469446951953614e-18\n",
            "3.469446951953614e-18\n",
            "3.469446951953614e-18\n",
            "3.469446951953614e-18\n",
            "3.469446951953614e-18\n",
            "3.469446951953614e-18\n",
            "3.469446951953614e-18\n",
            "3.469446951953614e-18\n",
            "3.469446951953614e-18\n",
            "3.469446951953614e-18\n",
            "3.469446951953614e-18\n",
            "3.469446951953614e-18\n",
            "3.469446951953614e-18\n",
            "3.469446951953614e-18\n",
            "3.469446951953614e-18\n",
            "3.469446951953614e-18\n",
            "3.469446951953614e-18\n",
            "3.469446951953614e-18\n",
            "3.469446951953614e-18\n",
            "3.469446951953614e-18\n",
            "3.469446951953614e-18\n",
            "1.734723475976807e-18\n",
            "1.734723475976807e-18\n",
            "1.734723475976807e-18\n",
            "1.734723475976807e-18\n",
            "1.734723475976807e-18\n",
            "1.734723475976807e-18\n",
            "1.734723475976807e-18\n",
            "1.734723475976807e-18\n",
            "1.734723475976807e-18\n",
            "1.734723475976807e-18\n",
            "1.734723475976807e-18\n",
            "1.734723475976807e-18\n",
            "1.734723475976807e-18\n",
            "1.734723475976807e-18\n",
            "1.734723475976807e-18\n",
            "1.734723475976807e-18\n",
            "1.734723475976807e-18\n",
            "1.734723475976807e-18\n",
            "1.734723475976807e-18\n",
            "1.734723475976807e-18\n",
            "1.734723475976807e-18\n",
            "8.673617379884035e-19\n",
            "4.336808689942018e-19\n",
            "4.336808689942018e-19\n",
            "4.336808689942018e-19\n",
            "2.168404344971009e-19\n",
            "2.168404344971009e-19\n",
            "2.168404344971009e-19\n",
            "2.168404344971009e-19\n",
            "2.168404344971009e-19\n",
            "2.168404344971009e-19\n",
            "2.168404344971009e-19\n",
            "2.168404344971009e-19\n",
            "2.168404344971009e-19\n",
            "2.168404344971009e-19\n",
            "2.168404344971009e-19\n",
            "2.168404344971009e-19\n",
            "2.168404344971009e-19\n",
            "2.168404344971009e-19\n",
            "2.168404344971009e-19\n",
            "2.168404344971009e-19\n",
            "2.168404344971009e-19\n",
            "2.168404344971009e-19\n",
            "2.168404344971009e-19\n",
            "2.168404344971009e-19\n",
            "2.168404344971009e-19\n",
            "2.168404344971009e-19\n",
            "2.168404344971009e-19\n",
            "2.168404344971009e-19\n",
            "2.168404344971009e-19\n",
            "2.168404344971009e-19\n",
            "2.168404344971009e-19\n",
            "2.168404344971009e-19\n",
            "2.168404344971009e-19\n",
            "2.168404344971009e-19\n",
            "2.168404344971009e-19\n",
            "2.168404344971009e-19\n",
            "2.168404344971009e-19\n",
            "2.168404344971009e-19\n",
            "2.168404344971009e-19\n",
            "2.168404344971009e-19\n",
            "2.168404344971009e-19\n",
            "2.168404344971009e-19\n",
            "2.168404344971009e-19\n",
            "2.168404344971009e-19\n",
            "2.168404344971009e-19\n",
            "2.168404344971009e-19\n",
            "2.168404344971009e-19\n",
            "2.168404344971009e-19\n",
            "2.168404344971009e-19\n",
            "2.168404344971009e-19\n",
            "2.168404344971009e-19\n",
            "2.168404344971009e-19\n",
            "2.168404344971009e-19\n",
            "2.168404344971009e-19\n",
            "2.168404344971009e-19\n",
            "2.168404344971009e-19\n",
            "2.168404344971009e-19\n",
            "2.168404344971009e-19\n",
            "2.168404344971009e-19\n",
            "2.168404344971009e-19\n",
            "2.168404344971009e-19\n",
            "2.168404344971009e-19\n",
            "2.168404344971009e-19\n",
            "2.168404344971009e-19\n",
            "2.168404344971009e-19\n",
            "2.168404344971009e-19\n",
            "2.168404344971009e-19\n",
            "2.168404344971009e-19\n",
            "2.168404344971009e-19\n",
            "2.168404344971009e-19\n",
            "2.168404344971009e-19\n",
            "2.168404344971009e-19\n",
            "2.168404344971009e-19\n",
            "2.168404344971009e-19\n",
            "2.168404344971009e-19\n",
            "2.168404344971009e-19\n",
            "2.168404344971009e-19\n",
            "2.168404344971009e-19\n",
            "2.168404344971009e-19\n",
            "2.168404344971009e-19\n",
            "2.168404344971009e-19\n",
            "2.168404344971009e-19\n",
            "2.168404344971009e-19\n"
          ],
          "name": "stdout"
        }
      ]
    },
    {
      "cell_type": "code",
      "metadata": {
        "colab": {
          "base_uri": "https://localhost:8080/",
          "height": 541
        },
        "id": "0Uo6lQ423WV8",
        "outputId": "d831984b-e7a1-496d-a294-a378eb8d3dcb"
      },
      "source": [
        "#Result of (b), gradient method\n",
        "\n",
        "num = np.arange(200)\n",
        "plt.plot(num, t_record_new,)\n",
        "plt.xlabel('Iter Number')\n",
        "plt.ylabel('t: step size')\n",
        "plt.show()\n",
        "\n",
        "plt.plot(num, obj_record_new)\n",
        "plt.xlabel('Iter Number')\n",
        "plt.ylabel('Objective value')\n",
        "plt.show()"
      ],
      "execution_count": null,
      "outputs": [
        {
          "output_type": "display_data",
          "data": {
            "image/png": "[encoded data removed]",
            "text/plain": [
              "<Figure size 432x288 with 1 Axes>"
            ]
          },
          "metadata": {
            "tags": [],
            "needs_background": "light"
          }
        },
        {
          "output_type": "display_data",
          "data": {
            "image/png": "[encoded data removed]",
            "text/plain": [
              "<Figure size 432x288 with 1 Axes>"
            ]
          },
          "metadata": {
            "tags": [],
            "needs_background": "light"
          }
        }
      ]
    },
    {
      "cell_type": "markdown",
      "metadata": {
        "id": "2vMa18mx4BUV"
      },
      "source": [
        "# Problem 7"
      ]
    },
    {
      "cell_type": "code",
      "metadata": {
        "id": "pOIAzlHP9Syx"
      },
      "source": [
        "#initialization\n",
        "alpha = 0.01\n",
        "beta = 0.5\n",
        "newton_bound = 1e-8\n"
      ],
      "execution_count": 62,
      "outputs": []
    },
    {
      "cell_type": "code",
      "metadata": {
        "id": "vk4VQxgM4EF2"
      },
      "source": [
        "#alpha, beta, newton_bound same as before\n",
        "iter = 100\n",
        "x = np.random.rand(100) # n = 100\n",
        "A = np.random.randn(30,100) #p = 30, n = 100"
      ],
      "execution_count": 63,
      "outputs": []
    },
    {
      "cell_type": "code",
      "metadata": {
        "id": "XKU1o2kX4oAF"
      },
      "source": [
        "def f7(x):\n",
        "  output = np.transpose(x)@np.log(x)\n",
        "  return output"
      ],
      "execution_count": 64,
      "outputs": []
    },
    {
      "cell_type": "code",
      "metadata": {
        "id": "0IfRaJ114xbT"
      },
      "source": [
        "def f7_grad(x):\n",
        "  output = 1 + np.log(x)\n",
        "  return output"
      ],
      "execution_count": 65,
      "outputs": []
    },
    {
      "cell_type": "code",
      "metadata": {
        "id": "BKlFa3R944ii"
      },
      "source": [
        "obj_a = []\n",
        "x0 = x\n",
        "for i in range(iter):\n",
        "  val = f7(x)\n",
        "  grad = f7_grad(x)\n",
        "  hessian = np.diag(1/x)\n",
        "  a = np.concatenate((hessian, np.transpose(A)), axis = 1)\n",
        "  b = np.concatenate((A,np.zeros((30,30))), axis = 1)\n",
        "  c = np.concatenate((a,b), axis = 0)\n",
        "  d = np.concatenate((grad, np.zeros((30,1))),axis = None)\n",
        "  x_eqs = - np.linalg.inv(c)@d\n",
        "  v = x_eqs[0:100]\n",
        "  fprime = np.transpose(grad)@v\n",
        "  if abs(fprime) < newton_bound:\n",
        "    break\n",
        "  t = 1\n",
        "  while np.min(x+t*v) <= 0:\n",
        "    t = beta*t\n",
        "  while f7(x+t*v) >= val + t*alpha*fprime:\n",
        "    t = beta*t\n",
        "  x = x + t* v\n",
        "  obj_a.append(f7(x))\n"
      ],
      "execution_count": 66,
      "outputs": []
    },
    {
      "cell_type": "code",
      "metadata": {
        "colab": {
          "base_uri": "https://localhost:8080/",
          "height": 283
        },
        "id": "v7OAvbtJAuRN",
        "outputId": "75f7fc62-7ab9-47b5-cab9-0cf8a1783541"
      },
      "source": [
        "#result of (a)\n",
        "num = np.arange(len(obj_a))\n",
        "\n",
        "plt.plot(num, obj_a)\n",
        "plt.xlabel('Iter Number')\n",
        "plt.ylabel('Objective value')\n",
        "plt.show()"
      ],
      "execution_count": 67,
      "outputs": [
        {
          "output_type": "display_data",
          "data": {
            "image/png": "[encoded data removed]",
            "text/plain": [
              "<Figure size 432x288 with 1 Axes>"
            ]
          },
          "metadata": {
            "tags": [],
            "needs_background": "light"
          }
        }
      ]
    },
    {
      "cell_type": "code",
      "metadata": {
        "id": "tkBFQ35nCGGv"
      },
      "source": [
        "x = x0\n",
        "obj_x0 = []\n",
        "nu = np.zeros(30)\n",
        "for i in range(iter):\n",
        "  a = 1+np.log(x)+np.transpose(A)@nu\n",
        "  b = A@x-A@x0\n",
        "  r = np.concatenate((a,b), axis = None)\n",
        "  c = np.concatenate((np.diag(1/x), np.transpose(A)), axis = 1)\n",
        "  d = np.concatenate((A,np.zeros((30,30))), axis = 1)\n",
        "  e = np.concatenate((c,d), axis = 0)\n",
        "  x_eqs = - np.linalg.solve(e, r)\n",
        "  dx = x_eqs[0:100]\n",
        "  dnu = x_eqs[100:130]\n",
        "  if np.linalg.norm(r) < newton_bound:\n",
        "    break\n",
        "  t = 1\n",
        "  while np.min(x+t*dx) <= 0:\n",
        "    t = beta*t\n",
        "  a1 = 1+np.log(x+t*dx)+np.transpose(A)@(nu+dnu)\n",
        "  b1 = A@(x+dx)-A@x0\n",
        "  c1 = np.concatenate((a1,b1), axis = None)\n",
        "  while np.linalg.norm(c1) > (1-alpha*t)*np.linalg.norm(r):\n",
        "    t = beta*t\n",
        "\n",
        "  x = x + t*dx\n",
        "  nu = nu + t*dnu\n",
        "  obj_x0.append(f7(x))"
      ],
      "execution_count": 68,
      "outputs": []
    },
    {
      "cell_type": "code",
      "metadata": {
        "id": "6reR5fOc7p8i"
      },
      "source": [
        "x = np.ones(100)\n",
        "obj_1 = []\n",
        "nu = np.zeros(30)\n",
        "for i in range(iter):\n",
        "  a = 1+np.log(x)+np.transpose(A)@nu\n",
        "  b = A@x-A@x0\n",
        "  r = np.concatenate((a,b), axis = None)\n",
        "  c = np.concatenate((np.diag(1/x), np.transpose(A)), axis = 1)\n",
        "  d = np.concatenate((A,np.zeros((30,30))), axis = 1)\n",
        "  e = np.concatenate((c,d), axis = 0)\n",
        "  x_eqs = - np.linalg.inv(e)@r\n",
        "  dx = x_eqs[0:100]\n",
        "  dnu = x_eqs[100:130]\n",
        "  if np.linalg.norm(r) < newton_bound:\n",
        "    break\n",
        "  t = 1\n",
        "  while np.min(x+t*dx) <= 0:\n",
        "    t = beta*t\n",
        "  a1 = 1+np.log(x+t*dx)+np.transpose(A)@(nu+dnu)\n",
        "  b1 = A@(x+dx)-A@x0\n",
        "  c1 = np.concatenate((a1,b1), axis = None)\n",
        "  while np.linalg.norm(c1) > (1-alpha*t)*np.linalg.norm(r):\n",
        "    t = beta*t\n",
        "\n",
        "  x = x + t*dx\n",
        "  nu = nu + t*dnu\n",
        "  obj_1.append(f7(x))"
      ],
      "execution_count": 69,
      "outputs": []
    },
    {
      "cell_type": "code",
      "metadata": {
        "colab": {
          "base_uri": "https://localhost:8080/",
          "height": 279
        },
        "id": "5nBLGIEy4ZvU",
        "outputId": "3e698140-7de2-48e6-f08e-a16b628948fd"
      },
      "source": [
        "#result of (b)\n",
        "num = np.arange(len(obj_x0))\n",
        "\n",
        "plt.plot(num, obj_x0, label = 'x0 = xhat')\n",
        "num = np.arange(len(obj_1))\n",
        "plt.plot(num, obj_1, label = 'x0 = 1')\n",
        "plt.xlabel('Iter Number')\n",
        "plt.ylabel('Objective value')\n",
        "plt.legend()\n",
        "plt.show()"
      ],
      "execution_count": 70,
      "outputs": [
        {
          "output_type": "display_data",
          "data": {
            "image/png": "[encoded data removed]",
            "text/plain": [
              "<Figure size 432x288 with 1 Axes>"
            ]
          },
          "metadata": {
            "tags": [],
            "needs_background": "light"
          }
        }
      ]
    },
    {
      "cell_type": "markdown",
      "metadata": {
        "id": "gpKHetx8R6ti"
      },
      "source": [
        "By above figure, we can see that x0 = 1 converges faster to the optimum value, but no matter what initial value x0 is, it always has the same optimal value."
      ]
    },
    {
      "cell_type": "code",
      "metadata": {
        "id": "dwbu3_fKA__9"
      },
      "source": [
        "#part(c)\n",
        "nu = np.zeros(30)\n",
        "b = A@x0\n",
        "def fdual(x):\n",
        "  output = -np.transpose(b)@x - np.exp(-np.transpose(A)@x-1).sum()\n",
        "  return output"
      ],
      "execution_count": 88,
      "outputs": []
    },
    {
      "cell_type": "code",
      "metadata": {
        "id": "canKagFt_uzR"
      },
      "source": [
        "#part (c)\n",
        "obj_dual = []\n",
        "for i in range(iter):\n",
        "  val = -fdual(nu)\n",
        "  grad = b - A@np.exp(-np.transpose(A)@nu-1)\n",
        "  hessian = A@np.diag(np.exp(-np.transpose(A)@nu-1))@np.transpose(A)\n",
        "  v = -np.linalg.solve(hessian, grad)\n",
        "  fprime = np.transpose(grad)@v\n",
        "  if abs(fprime) < newton_bound:\n",
        "    break\n",
        "  t = 1\n",
        "  while -fdual(nu+t*v) > val+t*alpha*fprime:\n",
        "    t = beta*t\n",
        "  nu = nu + t*v\n",
        "  obj_dual.append(fdual(nu))"
      ],
      "execution_count": 89,
      "outputs": []
    },
    {
      "cell_type": "code",
      "metadata": {
        "colab": {
          "base_uri": "https://localhost:8080/",
          "height": 282
        },
        "id": "yIEiHEpiBssz",
        "outputId": "55965e09-4660-4e2e-86aa-cb6781b5a692"
      },
      "source": [
        "#result of (c)\n",
        "num = np.arange(len(obj_dual))\n",
        "\n",
        "plt.plot(num, obj_dual)\n",
        "plt.xlabel('Iter Number')\n",
        "plt.ylabel('Dual Obj Value')\n",
        "plt.show()"
      ],
      "execution_count": 91,
      "outputs": [
        {
          "output_type": "display_data",
          "data": {
            "image/png": "[encoded data removed]",
            "text/plain": [
              "<Figure size 432x288 with 1 Axes>"
            ]
          },
          "metadata": {
            "tags": [],
            "needs_background": "light"
          }
        }
      ]
    },
    {
      "cell_type": "markdown",
      "metadata": {
        "id": "f8DacNNfVJNf"
      },
      "source": [
        "# Problem 9"
      ]
    },
    {
      "cell_type": "code",
      "metadata": {
        "id": "EGwvMWQ3VVTR"
      },
      "source": [
        "import random\n",
        "import scipy\n",
        "\n",
        "def norm2(x):\n",
        "    return np.sqrt(np.sum([i**2 for i in x]))\n",
        "\n",
        "def norm1(x):\n",
        "    return np.sum([abs(i) for i in x])\n",
        "\n",
        "def Normalized_Error(x,x_pre):\n",
        "    return norm2(x-x_pre)/norm2(x)\n",
        "        \n",
        "def rgb2gray(rgb):\n",
        "    return np.dot(rgb[...,:3], [0.2989, 0.5870, 0.1140])\n",
        "\n",
        "def dct2(a):\n",
        "    return scipy.fftpack.dct( scipy.fftpack.dct( a, axis=0, norm='ortho' ), axis=1, norm='ortho' )\n",
        "\n",
        "def idct2(a):\n",
        "    return scipy.fftpack.idct( scipy.fftpack.idct( a, axis=0 , norm='ortho'), axis=1 , norm='ortho')"
      ],
      "execution_count": 92,
      "outputs": []
    },
    {
      "cell_type": "code",
      "metadata": {
        "id": "6vnDS0ZiVId0"
      },
      "source": [
        "def define_A(M,N): #measurement matrix\n",
        "\n",
        "    A = []\n",
        "    for i in range(N):\n",
        "      col = np.random.randn(M)\n",
        "      col /= norm2(col)\n",
        "        \n",
        "      A.append(col)\n",
        "    A = np.array(A).T\n",
        "    return A\n",
        "\n",
        "def define_x(s,N):\n",
        "    #real signal\n",
        "    \n",
        "    # Uniformly sample the index\n",
        "\n",
        "    index = random.sample(range(N),s)\n",
        "    x = np.zeros(N)\n",
        "    for idx in index:\n",
        "      # For each index, draw a number from [-10,-1]||[1,10]\n",
        "      r = np.random.rand()\n",
        "      if r >0.5:\n",
        "        x[idx]=(r-0.5)*18+1\n",
        "      else:\n",
        "        x[idx]=(r-0.5)*18-1\n",
        "    return x.T,index\n",
        "\n",
        "def OMP(A,y,N,stop=np.infty,threshold=0.01):\n",
        "    #Orthogonal Matching pursuit algorithm\n",
        "\n",
        "    r = y\n",
        "    x_pre = np.zeros(N)\n",
        "    Lambdas = []\n",
        "    i = 0\n",
        "    # Control stop interation with norm thresh or sparsity\n",
        "    while norm2(r)>threshold and i<stop:\n",
        "       \n",
        "      # Compute the score of each atoms\n",
        "      scores = A.T.dot(r)\n",
        "        \n",
        "      # Select the atom with the max score\n",
        "      Lambda = np.argmax(abs(scores))\n",
        "      # print(Lambda)\n",
        "      Lambdas.append(Lambda)\n",
        "        \n",
        "      # All selected atoms form a basis\n",
        "      basis = A[:,Lambdas]\n",
        "\n",
        "      # Least square solution for y=Ax\n",
        "      x_pre[Lambdas] = np.linalg.inv(np.dot(basis.T,basis)).dot(basis.T).dot(y)\n",
        "        \n",
        "      # Compute the residual\n",
        "      r = y - A.dot(x_pre)\n",
        "        \n",
        "      i += 1\n",
        "    return x_pre.T,Lambdas\n",
        "\n"
      ],
      "execution_count": 93,
      "outputs": []
    },
    {
      "cell_type": "markdown",
      "metadata": {
        "id": "kSx1eoieYVrk"
      },
      "source": [
        "Author: Yilang Hao\n",
        "NetID: yh3062"
      ]
    }
  ]
}